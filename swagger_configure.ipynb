{
 "cells": [
  {
   "cell_type": "markdown",
   "id": "ddb1ac00-5228-48be-abef-8f8171de9303",
   "metadata": {},
   "source": [
    "## Install flaskrestplus for integrating swagger"
   ]
  },
  {
   "cell_type": "code",
   "execution_count": 4,
   "id": "c9f54a79-a366-46e2-b0de-574f1776e43d",
   "metadata": {},
   "outputs": [
    {
     "name": "stdout",
     "output_type": "stream",
     "text": [
      "Name: Flask\n",
      "Version: 3.0.3\n",
      "Summary: A simple framework for building complex web applications.\n",
      "Home-page: \n",
      "Author: \n",
      "Author-email: \n",
      "License: \n",
      "Location: C:\\Users\\mavul\\anaconda3\\Lib\\site-packages\n",
      "Requires: blinker, click, itsdangerous, Jinja2, Werkzeug\n",
      "Required-by: flask-restplus, flask-restx, flask-swagger-ui\n",
      "Name: flask-swagger-ui\n",
      "Version: 4.11.1\n",
      "Summary: Swagger UI blueprint for Flask\n",
      "Home-page: https://github.com/sveint/flask-swagger-ui\n",
      "Author: Svein Tore Koksrud Seljebotn\n",
      "Author-email: sveint@gmail.com\n",
      "License: MIT\n",
      "Location: C:\\Users\\mavul\\anaconda3\\Lib\\site-packages\n",
      "Requires: flask\n",
      "Required-by: \n",
      "Name: flask-restx\n",
      "Version: 1.3.0\n",
      "Summary: Fully featured framework for fast, easy and documented API development with Flask\n",
      "Home-page: https://github.com/python-restx/flask-restx\n",
      "Author: python-restx Authors\n",
      "Author-email: \n",
      "License: BSD-3-Clause\n",
      "Location: C:\\Users\\mavul\\anaconda3\\Lib\\site-packages\n",
      "Requires: aniso8601, Flask, importlib-resources, jsonschema, pytz, werkzeug\n",
      "Required-by: \n"
     ]
    }
   ],
   "source": [
    "#pip install Flask  Flask-Swagger-UI\n",
    "#!pip install flask-restx\n",
    "!pip show Flask\n",
    "!pip show Flask-Swagger-UI\n",
    "!pip show flask-restx\n"
   ]
  },
  {
   "cell_type": "code",
   "execution_count": 6,
   "id": "72a20661-9bf8-4fab-9eca-4f4be2a36766",
   "metadata": {},
   "outputs": [],
   "source": [
    "from flask_restx import Api\n",
    "\n",
    "def configure_swagger(app):\n",
    "    api = Api(app, version='1.0', title='Ticker API', description='A simple Ticker API')\n",
    "    return api"
   ]
  }
 ],
 "metadata": {
  "kernelspec": {
   "display_name": "Python 3 (ipykernel)",
   "language": "python",
   "name": "python3"
  },
  "language_info": {
   "codemirror_mode": {
    "name": "ipython",
    "version": 3
   },
   "file_extension": ".py",
   "mimetype": "text/x-python",
   "name": "python",
   "nbconvert_exporter": "python",
   "pygments_lexer": "ipython3",
   "version": "3.12.4"
  }
 },
 "nbformat": 4,
 "nbformat_minor": 5
}
