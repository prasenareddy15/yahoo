{
 "cells": [
  {
   "cell_type": "code",
   "execution_count": 2,
   "id": "72a20661-9bf8-4fab-9eca-4f4be2a36766",
   "metadata": {},
   "outputs": [],
   "source": [
    "from flask_restx import Api\n",
    "#pip install Flask  Flask-Swagger-UI\n",
    "#!pip install flask-restx\n",
    "#!pip show Flask\n",
    "#!pip show Flask-Swagger-UI\n",
    "#!pip show flask-restx\n",
    "def configure_swagger(app):\n",
    "    api = Api(app, version='1.0', title='Ticker API', description='A simple Ticker API')\n",
    "    return api"
   ]
  }
 ],
 "metadata": {
  "kernelspec": {
   "display_name": "Python 3 (ipykernel)",
   "language": "python",
   "name": "python3"
  },
  "language_info": {
   "codemirror_mode": {
    "name": "ipython",
    "version": 3
   },
   "file_extension": ".py",
   "mimetype": "text/x-python",
   "name": "python",
   "nbconvert_exporter": "python",
   "pygments_lexer": "ipython3",
   "version": "3.12.4"
  }
 },
 "nbformat": 4,
 "nbformat_minor": 5
}
