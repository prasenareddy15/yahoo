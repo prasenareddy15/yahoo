{
 "cells": [
  {
   "cell_type": "code",
   "execution_count": 25,
   "id": "bea1c5cb-24b4-4c17-8a0f-896bf69cdac6",
   "metadata": {},
   "outputs": [
    {
     "name": "stdout",
     "output_type": "stream",
     "text": [
      "Collecting ipynb\n",
      "  Downloading ipynb-0.5.1-py3-none-any.whl.metadata (303 bytes)\n",
      "Downloading ipynb-0.5.1-py3-none-any.whl (6.9 kB)\n",
      "Installing collected packages: ipynb\n",
      "Successfully installed ipynb-0.5.1\n"
     ]
    }
   ],
   "source": [
    "!pip install ipynb"
   ]
  },
  {
   "cell_type": "code",
   "execution_count": 1,
   "id": "d1536d4a-52a5-41b3-92d2-38ed95a817e0",
   "metadata": {},
   "outputs": [
    {
     "name": "stdout",
     "output_type": "stream",
     "text": [
      "C:\\Users\\mavul\\Documents\\known\\yahoo\n"
     ]
    }
   ],
   "source": [
    "import os\n",
    "print(os.getcwd())"
   ]
  },
  {
   "cell_type": "code",
   "execution_count": 19,
   "id": "843ab2d8-43b1-488a-99a1-ee57467f3059",
   "metadata": {},
   "outputs": [],
   "source": [
    "import ipynb\n",
    "from ipynb.fs.full.swagger_configure import configure_swagger\n",
    "from ipynb.fs.full.rabbitmq_config import send_to_queue\n"
   ]
  },
  {
   "cell_type": "code",
   "execution_count": 23,
   "id": "85dc5054-fb31-4da6-affd-b713c00c5dd9",
   "metadata": {},
   "outputs": [
    {
     "name": "stdout",
     "output_type": "stream",
     "text": [
      " * Serving Flask app '__main__'\n",
      " * Debug mode: on\n"
     ]
    },
    {
     "name": "stderr",
     "output_type": "stream",
     "text": [
      "WARNING: This is a development server. Do not use it in a production deployment. Use a production WSGI server instead.\n",
      " * Running on http://127.0.0.1:5000\n",
      "Press CTRL+C to quit\n",
      " * Restarting with watchdog (windowsapi)\n"
     ]
    },
    {
     "ename": "SystemExit",
     "evalue": "1",
     "output_type": "error",
     "traceback": [
      "An exception has occurred, use %tb to see the full traceback.\n",
      "\u001b[1;31mSystemExit\u001b[0m\u001b[1;31m:\u001b[0m 1\n"
     ]
    },
    {
     "name": "stderr",
     "output_type": "stream",
     "text": [
      "C:\\Users\\mavul\\anaconda3\\Lib\\site-packages\\IPython\\core\\interactiveshell.py:3585: UserWarning: To exit: use 'exit', 'quit', or Ctrl-D.\n",
      "  warn(\"To exit: use 'exit', 'quit', or Ctrl-D.\", stacklevel=1)\n"
     ]
    }
   ],
   "source": [
    "# main_app.ipynb\n",
    "#from ipynb.fs.full.swagger_configure import configure_swagger  # Import the function from the notebook\n",
    "\n",
    "\n",
    "#from rabbitmq_config import send_to_queue\n",
    "\n",
    "from flask import Flask, jsonify, request\n",
    "from flask_restx import Resource, fields\n",
    "\n",
    "# Create Flask app\n",
    "app = Flask(__name__)\n",
    "\n",
    "# Configure Swagger using the imported function from swagger_config.ipynb\n",
    "api = configure_swagger(app)\n",
    "\n",
    "# Define the Ticker model for Swagger documentation\n",
    "ticker_model = api.model('Ticker', {\n",
    "    'ticker_id': fields.Integer(required=True, description='The Ticker ID'),\n",
    "    'symbol': fields.String(required=True, description='The ticker symbol'),\n",
    "    'name': fields.String(required=True, description='The ticker name')\n",
    "})\n",
    "\n",
    "# Ticker resource (GET request for ticker info)\n",
    "@api.route('/ticker/<int:id>')\n",
    "@api.response(404, 'Ticker not found')\n",
    "class Ticker(Resource):\n",
    "    @api.marshal_with(ticker_model)\n",
    "    def get(self, id):\n",
    "        if id == 1:\n",
    "            return {'ticker_id': 1, 'symbol': 'AAPL', 'name': 'Apple'}\n",
    "        else:\n",
    "            api.abort(404, \"Ticker not found\")\n",
    "\n",
    "# Route to send a message to RabbitMQ\n",
    "@app.route('/send_message', methods=['POST'])\n",
    "def send_message():\n",
    "    message = request.json.get('message', '')\n",
    "    if message:\n",
    "        # Use the imported RabbitMQ function to send the message to the queue\n",
    "        send_to_queue(message)\n",
    "        return jsonify({\"status\": \"Message sent to RabbitMQ!\"}), 200\n",
    "    return jsonify({\"error\": \"No message provided\"}), 400\n",
    "\n",
    "# Run Flask app\n",
    "if __name__ == '__main__':\n",
    "    app.run(debug=True)\n"
   ]
  }
 ],
 "metadata": {
  "kernelspec": {
   "display_name": "Python 3 (ipykernel)",
   "language": "python",
   "name": "python3"
  },
  "language_info": {
   "codemirror_mode": {
    "name": "ipython",
    "version": 3
   },
   "file_extension": ".py",
   "mimetype": "text/x-python",
   "name": "python",
   "nbconvert_exporter": "python",
   "pygments_lexer": "ipython3",
   "version": "3.12.4"
  }
 },
 "nbformat": 4,
 "nbformat_minor": 5
}
