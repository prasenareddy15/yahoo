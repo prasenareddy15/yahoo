{
 "cells": [
  {
   "cell_type": "code",
   "execution_count": 1,
   "id": "f8c28cab-1613-4e55-956b-89d061c47bc4",
   "metadata": {},
   "outputs": [
    {
     "name": "stdout",
     "output_type": "stream",
     "text": [
      "hello\n"
     ]
    },
    {
     "name": "stdin",
     "output_type": "stream",
     "text": [
      "Enter the ticker for history fetch 23\n"
     ]
    }
   ],
   "source": [
    "print(\"hello\")\n",
    "proper=input(\"Enter the ticker for history fetch\")"
   ]
  },
  {
   "cell_type": "markdown",
   "id": "01909b25-9ed9-4e98-9516-fe2b73425bd5",
   "metadata": {
    "jp-MarkdownHeadingCollapsed": true
   },
   "source": [
    "# check if particular package is installed or yet to be installed"
   ]
  },
  {
   "cell_type": "code",
   "execution_count": 3,
   "id": "27ae2827-38bf-4003-be6a-8423c1f11a08",
   "metadata": {},
   "outputs": [
    {
     "name": "stdout",
     "output_type": "stream",
     "text": [
      "Name: pyodbc\n",
      "Version: 5.0.1\n",
      "Summary: DB API module for ODBC\n",
      "Home-page: https://github.com/mkleehammer/pyodbc\n",
      "Author: \n",
      "Author-email: Michael Kleehammer <michael@kleehammer.com>\n",
      "License: MIT License\n",
      "Location: C:\\Users\\mavul\\anaconda3\\Lib\\site-packages\n",
      "Requires: \n",
      "Required-by: \n",
      "Name: pandas\n",
      "Version: 2.2.2\n",
      "Summary: Powerful data structures for data analysis, time series, and statistics\n",
      "Home-page: https://pandas.pydata.org\n",
      "Author: \n",
      "Author-email: The Pandas Development Team <pandas-dev@python.org>\n",
      "License: BSD 3-Clause License\n",
      "\n",
      "Copyright (c) 2008-2011, AQR Capital Management, LLC, Lambda Foundry, Inc. and PyData Development Team\n",
      "All rights reserved.\n",
      "\n",
      "Copyright (c) 2011-2023, Open source contributors.\n",
      "\n",
      "Redistribution and use in source and binary forms, with or without\n",
      "modification, are permitted provided that the following conditions are met:\n",
      "\n",
      "* Redistributions of source code must retain the above copyright notice, this\n",
      "  list of conditions and the following disclaimer.\n",
      "\n",
      "* Redistributions in binary form must reproduce the above copyright notice,\n",
      "  this list of conditions and the following disclaimer in the documentation\n",
      "  and/or other materials provided with the distribution.\n",
      "\n",
      "* Neither the name of the copyright holder nor the names of its\n",
      "  contributors may be used to endorse or promote products derived from\n",
      "  this software without specific prior written permission.\n",
      "\n",
      "THIS SOFTWARE IS PROVIDED BY THE COPYRIGHT HOLDERS AND CONTRIBUTORS \"AS IS\"\n",
      "AND ANY EXPRESS OR IMPLIED WARRANTIES, INCLUDING, BUT NOT LIMITED TO, THE\n",
      "IMPLIED WARRANTIES OF MERCHANTABILITY AND FITNESS FOR A PARTICULAR PURPOSE ARE\n",
      "DISCLAIMED. IN NO EVENT SHALL THE COPYRIGHT HOLDER OR CONTRIBUTORS BE LIABLE\n",
      "FOR ANY DIRECT, INDIRECT, INCIDENTAL, SPECIAL, EXEMPLARY, OR CONSEQUENTIAL\n",
      "DAMAGES (INCLUDING, BUT NOT LIMITED TO, PROCUREMENT OF SUBSTITUTE GOODS OR\n",
      "SERVICES; LOSS OF USE, DATA, OR PROFITS; OR BUSINESS INTERRUPTION) HOWEVER\n",
      "CAUSED AND ON ANY THEORY OF LIABILITY, WHETHER IN CONTRACT, STRICT LIABILITY,\n",
      "OR TORT (INCLUDING NEGLIGENCE OR OTHERWISE) ARISING IN ANY WAY OUT OF THE USE\n",
      "OF THIS SOFTWARE, EVEN IF ADVISED OF THE POSSIBILITY OF SUCH DAMAGE.\n",
      "Location: C:\\Users\\mavul\\anaconda3\\Lib\\site-packages\n",
      "Requires: numpy, python-dateutil, pytz, tzdata\n",
      "Required-by: altair, bokeh, dask-expr, datashader, holoviews, hvplot, panel, seaborn, statsmodels, streamlit, xarray, yfinance\n",
      "Name: SQLAlchemy\n",
      "Version: 2.0.30\n",
      "Summary: Database Abstraction Library\n",
      "Home-page: https://www.sqlalchemy.org\n",
      "Author: Mike Bayer\n",
      "Author-email: mike_mp@zzzcomputing.com\n",
      "License: MIT\n",
      "Location: C:\\Users\\mavul\\anaconda3\\Lib\\site-packages\n",
      "Requires: greenlet, typing-extensions\n",
      "Required-by: \n"
     ]
    }
   ],
   "source": [
    "#!pip list\n",
    "!pip show pyodbc \n",
    "!pip show pandas \n",
    "!pip show sqlalchemy"
   ]
  },
  {
   "cell_type": "markdown",
   "id": "aed9bc29-4df5-4e26-9997-f0edda79a662",
   "metadata": {
    "jp-MarkdownHeadingCollapsed": true
   },
   "source": [
    "# package for importing all the historic data fetching"
   ]
  },
  {
   "cell_type": "code",
   "execution_count": 5,
   "id": "3dd640f3-c19b-422e-8c47-b4674c295665",
   "metadata": {},
   "outputs": [],
   "source": [
    "#pip install python-dotenv\n",
    "from sqlalchemy import create_engine,text\n",
    "import pandas as pd\n",
    "import os\n",
    "from dotenv import load_dotenv\n",
    "import urllib.parse"
   ]
  },
  {
   "cell_type": "code",
   "execution_count": 6,
   "id": "a69bacf4-7c6c-43e8-84e6-39d3142f2951",
   "metadata": {},
   "outputs": [],
   "source": [
    "# pip install yfinance  # ignore if already installed\n",
    "import yfinance as f"
   ]
  },
  {
   "cell_type": "markdown",
   "id": "0b0ace9b-b823-46ed-9830-a6288613b6f7",
   "metadata": {
    "jp-MarkdownHeadingCollapsed": true
   },
   "source": [
    "# loading .env file\n"
   ]
  },
  {
   "cell_type": "code",
   "execution_count": 8,
   "id": "b107ae4e-10c4-4022-904d-7062d9617dfc",
   "metadata": {},
   "outputs": [],
   "source": [
    "#use .env file to fetch the db credentials\n",
    "load_dotenv()\n",
    "server = os.getenv('DB_SERVER')\n",
    "database = os.getenv('DB_DATABASE')\n",
    "username = os.getenv('DB_USERNAME')\n",
    "password = os.getenv('DB_PASSWORD')\n",
    "password = urllib.parse.quote_plus(password)\n",
    "driver = 'ODBC+Driver+17+for+SQL+Server'\n",
    "\n"
   ]
  },
  {
   "cell_type": "markdown",
   "id": "bd64702e-d199-40f8-892a-424422e629c5",
   "metadata": {},
   "source": [
    "# Database connection\n"
   ]
  },
  {
   "cell_type": "code",
   "execution_count": 10,
   "id": "cdb30106-3cf6-454e-a7e0-779bb5ed10c3",
   "metadata": {},
   "outputs": [
    {
     "name": "stdout",
     "output_type": "stream",
     "text": [
      "yes\n"
     ]
    }
   ],
   "source": [
    "#connection string\n",
    "'''connection_string = f\"\"\" \n",
    "DRIVER={{{driver}}};\n",
    "SERVER={server};\n",
    "DATABASE={database};\n",
    "UID={username};\n",
    "PWD={password};\n",
    "\"\"\"\n",
    "'''\n",
    "\n",
    "#pyodbc connection\n",
    "\"\"\"\n",
    "connection_string = pyodbc.connect('DRIVER={ODBC Driver 17 for SQL Server};'\n",
    "                      f'SERVER={server};'\n",
    "                      f'DATABASE={database};'\n",
    "                      'Trusted_Connection=yes;')\n",
    "cursor = connection_string.cursor()\n",
    "cursor.execute(\"select * from Users\")\n",
    "rows = cursor.fetchall()\n",
    "if(len(rows)==0):\n",
    "    print(\"empty\")\n",
    "for row in rows:\n",
    "    print(row)\n",
    "connection_string.close()\n",
    "\"\"\"\n",
    "# check cnctn string\n",
    "#print(connection_string)\n",
    "print(\"yes\")"
   ]
  },
  {
   "cell_type": "code",
   "execution_count": 11,
   "id": "f1cb40dd-a7a9-4da3-9962-077bf8663444",
   "metadata": {},
   "outputs": [
    {
     "name": "stdout",
     "output_type": "stream",
     "text": [
      "mssql+pyodbc://DESKTOP-03OG7NU/yahoo?driver=ODBC+Driver+17+for+SQL+Server&trusted_connection=yes\n"
     ]
    }
   ],
   "source": [
    "#sqlalchemy\n",
    "connection_string = f'mssql+pyodbc://{server}/{database}?driver={driver}&trusted_connection=yes'\n",
    "print(connection_string)\n",
    "engine = create_engine(connection_string)"
   ]
  },
  {
   "cell_type": "code",
   "execution_count": 12,
   "id": "013005f7-710d-43fe-b93f-d92644af43eb",
   "metadata": {},
   "outputs": [
    {
     "name": "stdout",
     "output_type": "stream",
     "text": [
      "Empty DataFrame\n",
      "Columns: [UserID, FirstName, LastName, Email, DateOfBirth]\n",
      "Index: []\n"
     ]
    }
   ],
   "source": [
    "query=\"SELECT * FROM Users\"\n",
    "with engine.connect() as connection:\n",
    "    result = connection.execute(text(query))\n",
    "    # Fetch and print the results\n",
    "    for row in result:\n",
    "        print(row)\n",
    "#or\n",
    "#this is a better way cause we don't have to use a cursor to check if the \n",
    "engine = create_engine(connection_string)\n",
    "\n",
    "# Use pandas to execute the SQL query and fetch the results directly into a DataFrame\n",
    "df = pd.read_sql(query, engine)\n",
    "print(df)"
   ]
  },
  {
   "cell_type": "markdown",
   "id": "ab12a3bb-efa7-4e3b-8699-e45501915f4d",
   "metadata": {},
   "source": [
    "# creating object to download data"
   ]
  },
  {
   "cell_type": "code",
   "execution_count": 14,
   "id": "bd4ae37f-274d-4670-8e34-30a0b1ff5281",
   "metadata": {},
   "outputs": [
    {
     "name": "stdout",
     "output_type": "stream",
     "text": [
      "                           Dividends  Stock Splits\n",
      "Date                                              \n",
      "1987-05-11 00:00:00-04:00   0.000536           0.0\n",
      "1987-06-16 00:00:00-04:00   0.000000           2.0\n",
      "1987-08-10 00:00:00-04:00   0.000536           0.0\n",
      "1987-11-17 00:00:00-05:00   0.000714           0.0\n",
      "1988-02-12 00:00:00-05:00   0.000714           0.0\n",
      "...                              ...           ...\n",
      "2023-11-10 00:00:00-05:00   0.240000           0.0\n",
      "2024-02-09 00:00:00-05:00   0.240000           0.0\n",
      "2024-05-10 00:00:00-04:00   0.250000           0.0\n",
      "2024-08-12 00:00:00-04:00   0.250000           0.0\n",
      "2024-11-08 00:00:00-05:00   0.250000           0.0\n",
      "\n",
      "[90 rows x 2 columns]\n"
     ]
    }
   ],
   "source": [
    "## -----------------------------------basic methods to try on data------------------\n",
    "ticker = f.Ticker(\"AAPL\")\n",
    "# # basic info can be found , uncomment to explore\n",
    "# there are n number of feilds\n",
    "# info= ticker.info\n",
    "# print(info[\"longName\"])\n",
    "act= ticker.actions\n",
    "print(act)\n",
    "# sus= ticker.sustainability\n",
    "# print(sus)\n",
    "data = ticker.history(period=\"1y\")\n",
    "#data.info()\n",
    "#type(data)\n",
    "#print(data)"
   ]
  },
  {
   "cell_type": "code",
   "execution_count": 15,
   "id": "4b1f3260-84c4-4b55-8580-7029b0c3bb01",
   "metadata": {},
   "outputs": [
    {
     "name": "stderr",
     "output_type": "stream",
     "text": [
      "[*********************100%%**********************]  1 of 1 completed\n"
     ]
    }
   ],
   "source": [
    "ticker_list=['AAPL']\n",
    "data = f.download(ticker_list, start=\"2017-01-01\", end=\"2017-04-30\")\n"
   ]
  },
  {
   "cell_type": "code",
   "execution_count": 30,
   "id": "a22667c5-ceb6-4bea-a76d-f0297f40bf29",
   "metadata": {},
   "outputs": [
    {
     "data": {
      "text/html": [
       "<div>\n",
       "<style scoped>\n",
       "    .dataframe tbody tr th:only-of-type {\n",
       "        vertical-align: middle;\n",
       "    }\n",
       "\n",
       "    .dataframe tbody tr th {\n",
       "        vertical-align: top;\n",
       "    }\n",
       "\n",
       "    .dataframe thead th {\n",
       "        text-align: right;\n",
       "    }\n",
       "</style>\n",
       "<table border=\"1\" class=\"dataframe\">\n",
       "  <thead>\n",
       "    <tr style=\"text-align: right;\">\n",
       "      <th></th>\n",
       "      <th>Open</th>\n",
       "      <th>High</th>\n",
       "      <th>Low</th>\n",
       "      <th>Close</th>\n",
       "      <th>Adj Close</th>\n",
       "      <th>Volume</th>\n",
       "    </tr>\n",
       "    <tr>\n",
       "      <th>Date</th>\n",
       "      <th></th>\n",
       "      <th></th>\n",
       "      <th></th>\n",
       "      <th></th>\n",
       "      <th></th>\n",
       "      <th></th>\n",
       "    </tr>\n",
       "  </thead>\n",
       "  <tbody>\n",
       "    <tr>\n",
       "      <th>2017-01-03</th>\n",
       "      <td>28.950001</td>\n",
       "      <td>29.082500</td>\n",
       "      <td>28.690001</td>\n",
       "      <td>29.037500</td>\n",
       "      <td>26.891962</td>\n",
       "      <td>115127600</td>\n",
       "    </tr>\n",
       "    <tr>\n",
       "      <th>2017-01-04</th>\n",
       "      <td>28.962500</td>\n",
       "      <td>29.127501</td>\n",
       "      <td>28.937500</td>\n",
       "      <td>29.004999</td>\n",
       "      <td>26.861860</td>\n",
       "      <td>84472400</td>\n",
       "    </tr>\n",
       "    <tr>\n",
       "      <th>2017-01-05</th>\n",
       "      <td>28.980000</td>\n",
       "      <td>29.215000</td>\n",
       "      <td>28.952499</td>\n",
       "      <td>29.152500</td>\n",
       "      <td>26.998463</td>\n",
       "      <td>88774400</td>\n",
       "    </tr>\n",
       "    <tr>\n",
       "      <th>2017-01-06</th>\n",
       "      <td>29.195000</td>\n",
       "      <td>29.540001</td>\n",
       "      <td>29.117500</td>\n",
       "      <td>29.477501</td>\n",
       "      <td>27.299450</td>\n",
       "      <td>127007600</td>\n",
       "    </tr>\n",
       "    <tr>\n",
       "      <th>2017-01-09</th>\n",
       "      <td>29.487499</td>\n",
       "      <td>29.857500</td>\n",
       "      <td>29.485001</td>\n",
       "      <td>29.747499</td>\n",
       "      <td>27.549500</td>\n",
       "      <td>134247600</td>\n",
       "    </tr>\n",
       "    <tr>\n",
       "      <th>...</th>\n",
       "      <td>...</td>\n",
       "      <td>...</td>\n",
       "      <td>...</td>\n",
       "      <td>...</td>\n",
       "      <td>...</td>\n",
       "      <td>...</td>\n",
       "    </tr>\n",
       "    <tr>\n",
       "      <th>2017-04-24</th>\n",
       "      <td>35.875000</td>\n",
       "      <td>35.987499</td>\n",
       "      <td>35.794998</td>\n",
       "      <td>35.910000</td>\n",
       "      <td>33.400845</td>\n",
       "      <td>68537200</td>\n",
       "    </tr>\n",
       "    <tr>\n",
       "      <th>2017-04-25</th>\n",
       "      <td>35.977501</td>\n",
       "      <td>36.224998</td>\n",
       "      <td>35.967499</td>\n",
       "      <td>36.132500</td>\n",
       "      <td>33.607800</td>\n",
       "      <td>75486000</td>\n",
       "    </tr>\n",
       "    <tr>\n",
       "      <th>2017-04-26</th>\n",
       "      <td>36.117500</td>\n",
       "      <td>36.150002</td>\n",
       "      <td>35.845001</td>\n",
       "      <td>35.919998</td>\n",
       "      <td>33.410152</td>\n",
       "      <td>80164800</td>\n",
       "    </tr>\n",
       "    <tr>\n",
       "      <th>2017-04-27</th>\n",
       "      <td>35.980000</td>\n",
       "      <td>36.040001</td>\n",
       "      <td>35.827499</td>\n",
       "      <td>35.947498</td>\n",
       "      <td>33.435730</td>\n",
       "      <td>56985200</td>\n",
       "    </tr>\n",
       "    <tr>\n",
       "      <th>2017-04-28</th>\n",
       "      <td>36.022499</td>\n",
       "      <td>36.075001</td>\n",
       "      <td>35.817501</td>\n",
       "      <td>35.912498</td>\n",
       "      <td>33.403172</td>\n",
       "      <td>83441600</td>\n",
       "    </tr>\n",
       "  </tbody>\n",
       "</table>\n",
       "<p>81 rows × 6 columns</p>\n",
       "</div>"
      ],
      "text/plain": [
       "                 Open       High        Low      Close  Adj Close     Volume\n",
       "Date                                                                        \n",
       "2017-01-03  28.950001  29.082500  28.690001  29.037500  26.891962  115127600\n",
       "2017-01-04  28.962500  29.127501  28.937500  29.004999  26.861860   84472400\n",
       "2017-01-05  28.980000  29.215000  28.952499  29.152500  26.998463   88774400\n",
       "2017-01-06  29.195000  29.540001  29.117500  29.477501  27.299450  127007600\n",
       "2017-01-09  29.487499  29.857500  29.485001  29.747499  27.549500  134247600\n",
       "...               ...        ...        ...        ...        ...        ...\n",
       "2017-04-24  35.875000  35.987499  35.794998  35.910000  33.400845   68537200\n",
       "2017-04-25  35.977501  36.224998  35.967499  36.132500  33.607800   75486000\n",
       "2017-04-26  36.117500  36.150002  35.845001  35.919998  33.410152   80164800\n",
       "2017-04-27  35.980000  36.040001  35.827499  35.947498  33.435730   56985200\n",
       "2017-04-28  36.022499  36.075001  35.817501  35.912498  33.403172   83441600\n",
       "\n",
       "[81 rows x 6 columns]"
      ]
     },
     "execution_count": 30,
     "metadata": {},
     "output_type": "execute_result"
    }
   ],
   "source": [
    "data"
   ]
  },
  {
   "cell_type": "code",
   "execution_count": null,
   "id": "e8b23647-6de9-40f1-9dde-34a073aa24e0",
   "metadata": {},
   "outputs": [],
   "source": [
    "\n"
   ]
  },
  {
   "cell_type": "code",
   "execution_count": null,
   "id": "f50e8bcf-7b50-4c69-b7a3-c977aa4d4885",
   "metadata": {},
   "outputs": [],
   "source": []
  }
 ],
 "metadata": {
  "kernelspec": {
   "display_name": "Python 3 (ipykernel)",
   "language": "python",
   "name": "python3"
  },
  "language_info": {
   "codemirror_mode": {
    "name": "ipython",
    "version": 3
   },
   "file_extension": ".py",
   "mimetype": "text/x-python",
   "name": "python",
   "nbconvert_exporter": "python",
   "pygments_lexer": "ipython3",
   "version": "3.12.4"
  }
 },
 "nbformat": 4,
 "nbformat_minor": 5
}
