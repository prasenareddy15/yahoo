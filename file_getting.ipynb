{
 "cells": [
  {
   "cell_type": "code",
   "execution_count": 31,
   "id": "f8c28cab-1613-4e55-956b-89d061c47bc4",
   "metadata": {},
   "outputs": [
    {
     "name": "stdout",
     "output_type": "stream",
     "text": [
      "hello\n"
     ]
    }
   ],
   "source": [
    "print(\"hello\")"
   ]
  },
  {
   "cell_type": "markdown",
   "id": "aed9bc29-4df5-4e26-9997-f0edda79a662",
   "metadata": {},
   "source": [
    "# package for importing all the historic data fetching"
   ]
  },
  {
   "cell_type": "code",
   "execution_count": 34,
   "id": "1db23415-8487-48ca-aa43-52dad73ebcaa",
   "metadata": {},
   "outputs": [],
   "source": [
    "# pip install yfinance  # ignore if already installed\n",
    "import yfinance as f"
   ]
  },
  {
   "cell_type": "markdown",
   "id": "ab12a3bb-efa7-4e3b-8699-e45501915f4d",
   "metadata": {},
   "source": [
    "# creating object to download data"
   ]
  },
  {
   "cell_type": "code",
   "execution_count": 36,
   "id": "bd4ae37f-274d-4670-8e34-30a0b1ff5281",
   "metadata": {},
   "outputs": [],
   "source": [
    "ticker = f.Ticker(\"AAPL\")\n"
   ]
  },
  {
   "cell_type": "code",
   "execution_count": 56,
   "id": "4b1f3260-84c4-4b55-8580-7029b0c3bb01",
   "metadata": {},
   "outputs": [],
   "source": [
    "# # basic info can be found , uncomment to explore\n",
    "# there are n number of feilds\n",
    "# info= ticker.info\n",
    "# print(info[\"longName\"])\n",
    "# act= ticker.actions\n",
    "# print(act)\n",
    "# sus= ticker.sustainability\n",
    "# print(sus)"
   ]
  },
  {
   "cell_type": "code",
   "execution_count": 13,
   "id": "a22667c5-ceb6-4bea-a76d-f0297f40bf29",
   "metadata": {},
   "outputs": [
    {
     "name": "stdout",
     "output_type": "stream",
     "text": [
      "                                 Open        High         Low       Close  \\\n",
      "Date                                                                        \n",
      "2023-08-17 00:00:00-04:00  176.238164  176.606276  172.596794  173.114151   \n",
      "2023-08-18 00:00:00-04:00  171.422816  174.208564  171.084551  173.601669   \n",
      "2023-08-21 00:00:00-04:00  174.178725  175.233326  172.855494  174.944794   \n",
      "2023-08-22 00:00:00-04:00  176.158565  176.775404  175.352691  176.327698   \n",
      "2023-08-23 00:00:00-04:00  177.611152  180.625725  177.422117  180.197906   \n",
      "...                               ...         ...         ...         ...   \n",
      "2024-08-12 00:00:00-04:00  216.070007  219.509995  215.600006  217.529999   \n",
      "2024-08-13 00:00:00-04:00  219.009995  221.889999  219.009995  221.270004   \n",
      "2024-08-14 00:00:00-04:00  220.570007  223.029999  219.699997  221.720001   \n",
      "2024-08-15 00:00:00-04:00  224.600006  225.350006  222.759995  224.720001   \n",
      "2024-08-16 00:00:00-04:00  223.919998  226.830002  223.649994  226.050003   \n",
      "\n",
      "                             Volume  Dividends  Stock Splits  \n",
      "Date                                                          \n",
      "2023-08-17 00:00:00-04:00  66062900       0.00           0.0  \n",
      "2023-08-18 00:00:00-04:00  61114200       0.00           0.0  \n",
      "2023-08-21 00:00:00-04:00  46311900       0.00           0.0  \n",
      "2023-08-22 00:00:00-04:00  42084200       0.00           0.0  \n",
      "2023-08-23 00:00:00-04:00  52722800       0.00           0.0  \n",
      "...                             ...        ...           ...  \n",
      "2024-08-12 00:00:00-04:00  38028100       0.25           0.0  \n",
      "2024-08-13 00:00:00-04:00  44155300       0.00           0.0  \n",
      "2024-08-14 00:00:00-04:00  41960600       0.00           0.0  \n",
      "2024-08-15 00:00:00-04:00  46414000       0.00           0.0  \n",
      "2024-08-16 00:00:00-04:00  44289900       0.00           0.0  \n",
      "\n",
      "[252 rows x 7 columns]\n"
     ]
    }
   ],
   "source": [
    "data = ticker.history(period=\"1y\")\n",
    "print(data)"
   ]
  },
  {
   "cell_type": "code",
   "execution_count": 21,
   "id": "e8b23647-6de9-40f1-9dde-34a073aa24e0",
   "metadata": {},
   "outputs": [
    {
     "name": "stdout",
     "output_type": "stream",
     "text": [
      "<class 'pandas.core.frame.DataFrame'>\n",
      "DatetimeIndex: 252 entries, 2023-08-17 00:00:00-04:00 to 2024-08-16 00:00:00-04:00\n",
      "Data columns (total 7 columns):\n",
      " #   Column        Non-Null Count  Dtype  \n",
      "---  ------        --------------  -----  \n",
      " 0   Open          252 non-null    float64\n",
      " 1   High          252 non-null    float64\n",
      " 2   Low           252 non-null    float64\n",
      " 3   Close         252 non-null    float64\n",
      " 4   Volume        252 non-null    int64  \n",
      " 5   Dividends     252 non-null    float64\n",
      " 6   Stock Splits  252 non-null    float64\n",
      "dtypes: float64(6), int64(1)\n",
      "memory usage: 15.8 KB\n"
     ]
    }
   ],
   "source": [
    "data.info()\n"
   ]
  },
  {
   "cell_type": "code",
   "execution_count": 23,
   "id": "f50e8bcf-7b50-4c69-b7a3-c977aa4d4885",
   "metadata": {},
   "outputs": [
    {
     "data": {
      "text/plain": [
       "pandas.core.frame.DataFrame"
      ]
     },
     "execution_count": 23,
     "metadata": {},
     "output_type": "execute_result"
    }
   ],
   "source": [
    "type(data)"
   ]
  },
  {
   "cell_type": "code",
   "execution_count": null,
   "id": "27ae2827-38bf-4003-be6a-8423c1f11a08",
   "metadata": {},
   "outputs": [],
   "source": []
  }
 ],
 "metadata": {
  "kernelspec": {
   "display_name": "Python 3 (ipykernel)",
   "language": "python",
   "name": "python3"
  },
  "language_info": {
   "codemirror_mode": {
    "name": "ipython",
    "version": 3
   },
   "file_extension": ".py",
   "mimetype": "text/x-python",
   "name": "python",
   "nbconvert_exporter": "python",
   "pygments_lexer": "ipython3",
   "version": "3.12.4"
  }
 },
 "nbformat": 4,
 "nbformat_minor": 5
}
