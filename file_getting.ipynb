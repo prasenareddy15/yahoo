{
 "cells": [
  {
   "cell_type": "code",
   "execution_count": 9,
   "id": "f8c28cab-1613-4e55-956b-89d061c47bc4",
   "metadata": {},
   "outputs": [
    {
     "name": "stdout",
     "output_type": "stream",
     "text": [
      "hello\n"
     ]
    },
    {
     "name": "stdin",
     "output_type": "stream",
     "text": [
      "Enter the ticker for history fetch aapl\n"
     ]
    }
   ],
   "source": [
    "print(\"hello\")\n",
    "proper=input(\"Enter the ticker for history fetch\")"
   ]
  },
  {
   "cell_type": "markdown",
   "id": "01909b25-9ed9-4e98-9516-fe2b73425bd5",
   "metadata": {
    "jp-MarkdownHeadingCollapsed": true
   },
   "source": [
    "# check if particular package is installed or yet to be installed"
   ]
  },
  {
   "cell_type": "code",
   "execution_count": 5,
   "id": "27ae2827-38bf-4003-be6a-8423c1f11a08",
   "metadata": {},
   "outputs": [],
   "source": [
    "#!pip list\n",
    "!pip show pyodbc \n",
    "!pip show pandas \n",
    "!pip show sqlalchemy"
   ]
  },
  {
   "cell_type": "markdown",
   "id": "aed9bc29-4df5-4e26-9997-f0edda79a662",
   "metadata": {
    "jp-MarkdownHeadingCollapsed": true
   },
   "source": [
    "# package for importing all the historic data fetching"
   ]
  },
  {
   "cell_type": "code",
   "execution_count": 61,
   "id": "3dd640f3-c19b-422e-8c47-b4674c295665",
   "metadata": {},
   "outputs": [],
   "source": [
    "#pip install python-dotenv\n",
    "from sqlalchemy import create_engine,text\n",
    "import pandas as pd\n",
    "import os\n",
    "from dotenv import load_dotenv\n",
    "import urllib.parse"
   ]
  },
  {
   "cell_type": "code",
   "execution_count": null,
   "id": "a69bacf4-7c6c-43e8-84e6-39d3142f2951",
   "metadata": {},
   "outputs": [],
   "source": [
    "# pip install yfinance  # ignore if already installed\n",
    "import yfinance as f"
   ]
  },
  {
   "cell_type": "markdown",
   "id": "0b0ace9b-b823-46ed-9830-a6288613b6f7",
   "metadata": {
    "jp-MarkdownHeadingCollapsed": true
   },
   "source": [
    "# loading .env file\n"
   ]
  },
  {
   "cell_type": "code",
   "execution_count": 55,
   "id": "b107ae4e-10c4-4022-904d-7062d9617dfc",
   "metadata": {},
   "outputs": [],
   "source": [
    "#use .env file to fetch the db credentials\n",
    "load_dotenv()\n",
    "server = os.getenv('DB_SERVER')\n",
    "database = os.getenv('DB_DATABASE')\n",
    "username = os.getenv('DB_USERNAME')\n",
    "password = os.getenv('DB_PASSWORD')\n",
    "password = urllib.parse.quote_plus(password)\n",
    "driver = 'ODBC+Driver+17+for+SQL+Server'\n",
    "\n"
   ]
  },
  {
   "cell_type": "markdown",
   "id": "bd64702e-d199-40f8-892a-424422e629c5",
   "metadata": {},
   "source": [
    "# Database connection\n"
   ]
  },
  {
   "cell_type": "code",
   "execution_count": 85,
   "id": "cdb30106-3cf6-454e-a7e0-779bb5ed10c3",
   "metadata": {},
   "outputs": [
    {
     "name": "stdout",
     "output_type": "stream",
     "text": [
      "yes\n"
     ]
    }
   ],
   "source": [
    "#connection string\n",
    "'''connection_string = f\"\"\" \n",
    "DRIVER={{{driver}}};\n",
    "SERVER={server};\n",
    "DATABASE={database};\n",
    "UID={username};\n",
    "PWD={password};\n",
    "\"\"\"\n",
    "'''\n",
    "\n",
    "#pyodbc connection\n",
    "\"\"\"\n",
    "connection_string = pyodbc.connect('DRIVER={ODBC Driver 17 for SQL Server};'\n",
    "                      f'SERVER={server};'\n",
    "                      f'DATABASE={database};'\n",
    "                      'Trusted_Connection=yes;')\n",
    "cursor = connection_string.cursor()\n",
    "cursor.execute(\"select * from Users\")\n",
    "rows = cursor.fetchall()\n",
    "if(len(rows)==0):\n",
    "    print(\"empty\")\n",
    "for row in rows:\n",
    "    print(row)\n",
    "connection_string.close()\n",
    "\"\"\"\n",
    "# check cnctn string\n",
    "#print(connection_string)\n",
    "print(\"yes\")"
   ]
  },
  {
   "cell_type": "code",
   "execution_count": 91,
   "id": "f1cb40dd-a7a9-4da3-9962-077bf8663444",
   "metadata": {},
   "outputs": [
    {
     "name": "stdout",
     "output_type": "stream",
     "text": [
      "mssql+pyodbc://DESKTOP-03OG7NU/yahoo?driver=ODBC+Driver+17+for+SQL+Server&trusted_connection=yes\n"
     ]
    }
   ],
   "source": [
    "#sqlalchemy\n",
    "connection_string = f'mssql+pyodbc://{server}/{database}?driver={driver}&trusted_connection=yes'\n",
    "print(connection_string)\n",
    "engine = create_engine(connection_string)"
   ]
  },
  {
   "cell_type": "code",
   "execution_count": 93,
   "id": "013005f7-710d-43fe-b93f-d92644af43eb",
   "metadata": {},
   "outputs": [
    {
     "name": "stdout",
     "output_type": "stream",
     "text": [
      "Empty DataFrame\n",
      "Columns: [UserID, FirstName, LastName, Email, DateOfBirth]\n",
      "Index: []\n"
     ]
    }
   ],
   "source": [
    "query=\"SELECT * FROM Users\"\n",
    "with engine.connect() as connection:\n",
    "    result = connection.execute(text(query))\n",
    "    # Fetch and print the results\n",
    "    for row in result:\n",
    "        print(row)\n",
    "#or\n",
    "#this is a better way cause we don't have to use a cursor to check if the \n",
    "engine = create_engine(connection_string)\n",
    "\n",
    "# Use pandas to execute the SQL query and fetch the results directly into a DataFrame\n",
    "df = pd.read_sql(query, engine)\n",
    "print(df)"
   ]
  },
  {
   "cell_type": "markdown",
   "id": "ab12a3bb-efa7-4e3b-8699-e45501915f4d",
   "metadata": {
    "jp-MarkdownHeadingCollapsed": true
   },
   "source": [
    "# creating object to download data"
   ]
  },
  {
   "cell_type": "code",
   "execution_count": 19,
   "id": "bd4ae37f-274d-4670-8e34-30a0b1ff5281",
   "metadata": {},
   "outputs": [],
   "source": [
    "\n",
    "ticker = f.Ticker(\"AAPL\")\n"
   ]
  },
  {
   "cell_type": "code",
   "execution_count": 31,
   "id": "4b1f3260-84c4-4b55-8580-7029b0c3bb01",
   "metadata": {},
   "outputs": [],
   "source": [
    "# # basic info can be found , uncomment to explore\n",
    "# there are n number of feilds\n",
    "# info= ticker.info\n",
    "# print(info[\"longName\"])\n",
    "# act= ticker.actions\n",
    "# print(act)\n",
    "# sus= ticker.sustainability\n",
    "# print(sus)\n"
   ]
  },
  {
   "cell_type": "code",
   "execution_count": 33,
   "id": "a22667c5-ceb6-4bea-a76d-f0297f40bf29",
   "metadata": {},
   "outputs": [],
   "source": [
    "data = ticker.history(period=\"1y\")\n",
    "#data.info()\n",
    "#type(data)\n",
    "#print(data)"
   ]
  },
  {
   "cell_type": "code",
   "execution_count": 21,
   "id": "e8b23647-6de9-40f1-9dde-34a073aa24e0",
   "metadata": {},
   "outputs": [
    {
     "name": "stdout",
     "output_type": "stream",
     "text": [
      "<class 'pandas.core.frame.DataFrame'>\n",
      "DatetimeIndex: 252 entries, 2023-08-17 00:00:00-04:00 to 2024-08-16 00:00:00-04:00\n",
      "Data columns (total 7 columns):\n",
      " #   Column        Non-Null Count  Dtype  \n",
      "---  ------        --------------  -----  \n",
      " 0   Open          252 non-null    float64\n",
      " 1   High          252 non-null    float64\n",
      " 2   Low           252 non-null    float64\n",
      " 3   Close         252 non-null    float64\n",
      " 4   Volume        252 non-null    int64  \n",
      " 5   Dividends     252 non-null    float64\n",
      " 6   Stock Splits  252 non-null    float64\n",
      "dtypes: float64(6), int64(1)\n",
      "memory usage: 15.8 KB\n"
     ]
    }
   ],
   "source": [
    "\n"
   ]
  },
  {
   "cell_type": "code",
   "execution_count": 23,
   "id": "f50e8bcf-7b50-4c69-b7a3-c977aa4d4885",
   "metadata": {},
   "outputs": [
    {
     "data": {
      "text/plain": [
       "pandas.core.frame.DataFrame"
      ]
     },
     "execution_count": 23,
     "metadata": {},
     "output_type": "execute_result"
    }
   ],
   "source": []
  }
 ],
 "metadata": {
  "kernelspec": {
   "display_name": "Python 3 (ipykernel)",
   "language": "python",
   "name": "python3"
  },
  "language_info": {
   "codemirror_mode": {
    "name": "ipython",
    "version": 3
   },
   "file_extension": ".py",
   "mimetype": "text/x-python",
   "name": "python",
   "nbconvert_exporter": "python",
   "pygments_lexer": "ipython3",
   "version": "3.12.4"
  }
 },
 "nbformat": 4,
 "nbformat_minor": 5
}
