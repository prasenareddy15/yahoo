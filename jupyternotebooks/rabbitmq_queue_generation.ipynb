{
 "cells": [
  {
   "cell_type": "code",
   "execution_count": 28,
   "id": "d5d58801-56e2-4991-9afd-ba7e4f5507d9",
   "metadata": {},
   "outputs": [],
   "source": [
    "# rabbitmq_config.ipynb\n",
    "#!pip install pika\n",
    "import pika\n",
    "\n",
    "# Function to connect to RabbitMQ and ensure a queue is created\n",
    "def create_queue_in_rabbitmq(queue_name='default_queue'):\n",
    "    # Establish connection with RabbitMQ (update with your server details)\n",
    "    connection = pika.BlockingConnection(pika.ConnectionParameters(host='localhost'))\n",
    "    channel = connection.channel()\n",
    "\n",
    "    # Declare the queue (it will be created if it doesn't exist)\n",
    "    channel.queue_declare(queue=queue_name, durable=True)\n",
    "\n",
    "    # Confirm the queue has been created or is already there\n",
    "    print(f\"Queue '{queue_name}' is ready.\")\n",
    "    \n",
    "    # Close the connection\n",
    "    connection.close()"
   ]
  },
  {
   "cell_type": "code",
   "execution_count": 1,
   "id": "40910849-6b41-45c4-9f1f-762e0c8b6d41",
   "metadata": {},
   "outputs": [
    {
     "data": {
      "text/plain": [
       "'import pika\\nimport json\\n\\nclass RabbitMQManager:\\n    def __init__(self, queue_name=\\'task_queue\\', response_queue=\\'response_queue\\'):\\n        self.queue_name = queue_name\\n        self.response_queue = response_queue\\n        self.connection = pika.BlockingConnection(pika.ConnectionParameters(\\'localhost\\'))\\n        self.channel = self.connection.channel()\\n        self.channel.queue_declare(queue=queue_name, durable=True)\\n        self.channel.queue_declare(queue=response_queue, durable=True)\\n\\n    def send_to_queue(self, queue_name, message):\\n        self.channel.basic_publish(\\n            exchange=\\'\\',\\n            routing_key=queue_name,\\n            body=json.dumps(message),\\n            properties=pika.BasicProperties(delivery_mode=2)  # Persistent message\\n        )\\n        print(f\"Message sent to queue \\'{queue_name}\\': {message}\")\\n\\n    def get_response(self, callback):\\n        def response_callback(ch, method, properties, body):\\n            callback(json.loads(body))\\n            ch.basic_ack(delivery_tag=method.delivery_tag)\\n\\n        self.channel.basic_consume(queue=self.response_queue, on_message_callback=response_callback)\\n        print(f\"Waiting for responses in queue \\'{self.response_queue}\\'...\")\\n        self.channel.start_consuming()\\n'"
      ]
     },
     "execution_count": 1,
     "metadata": {},
     "output_type": "execute_result"
    }
   ],
   "source": [
    "\"\"\"import pika\n",
    "import json\n",
    "\n",
    "class RabbitMQManager:\n",
    "    def __init__(self, queue_name='task_queue', response_queue='response_queue'):\n",
    "        self.queue_name = queue_name\n",
    "        self.response_queue = response_queue\n",
    "        self.connection = pika.BlockingConnection(pika.ConnectionParameters('localhost'))\n",
    "        self.channel = self.connection.channel()\n",
    "        self.channel.queue_declare(queue=queue_name, durable=True)\n",
    "        self.channel.queue_declare(queue=response_queue, durable=True)\n",
    "\n",
    "    def send_to_queue(self, queue_name, message):\n",
    "        self.channel.basic_publish(\n",
    "            exchange='',\n",
    "            routing_key=queue_name,\n",
    "            body=json.dumps(message),\n",
    "            properties=pika.BasicProperties(delivery_mode=2)  # Persistent message\n",
    "        )\n",
    "        print(f\"Message sent to queue '{queue_name}': {message}\")\n",
    "\n",
    "    def get_response(self, callback):\n",
    "        def response_callback(ch, method, properties, body):\n",
    "            callback(json.loads(body))\n",
    "            ch.basic_ack(delivery_tag=method.delivery_tag)\n",
    "\n",
    "        self.channel.basic_consume(queue=self.response_queue, on_message_callback=response_callback)\n",
    "        print(f\"Waiting for responses in queue '{self.response_queue}'...\")\n",
    "        self.channel.start_consuming()\n",
    "\"\"\""
   ]
  }
 ],
 "metadata": {
  "kernelspec": {
   "display_name": "Python 3 (ipykernel)",
   "language": "python",
   "name": "python3"
  },
  "language_info": {
   "codemirror_mode": {
    "name": "ipython",
    "version": 3
   },
   "file_extension": ".py",
   "mimetype": "text/x-python",
   "name": "python",
   "nbconvert_exporter": "python",
   "pygments_lexer": "ipython3",
   "version": "3.12.4"
  }
 },
 "nbformat": 4,
 "nbformat_minor": 5
}
