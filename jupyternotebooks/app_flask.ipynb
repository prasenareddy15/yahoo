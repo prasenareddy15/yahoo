{
 "cells": [
  {
   "cell_type": "code",
   "execution_count": 127,
   "id": "bea1c5cb-24b4-4c17-8a0f-896bf69cdac6",
   "metadata": {},
   "outputs": [],
   "source": [
    "#!pip install ipynb"
   ]
  },
  {
   "cell_type": "code",
   "execution_count": 128,
   "id": "d1536d4a-52a5-41b3-92d2-38ed95a817e0",
   "metadata": {},
   "outputs": [
    {
     "name": "stdout",
     "output_type": "stream",
     "text": [
      "C:\\Users\\mavul\\Documents\\known\\yahoo\n"
     ]
    }
   ],
   "source": [
    "import os\n",
    "print(os.getcwd())"
   ]
  },
  {
   "cell_type": "code",
   "execution_count": 129,
   "id": "843ab2d8-43b1-488a-99a1-ee57467f3059",
   "metadata": {},
   "outputs": [],
   "source": [
    "import ipynb\n",
    "from ipynb.fs.full.swagger_configure import configure_swagger\n",
    "from ipynb.fs.full.rabbitmq_config import send_to_queue\n"
   ]
  },
  {
   "cell_type": "markdown",
   "id": "86fda393-4002-4f7e-bf74-6b78dd806d96",
   "metadata": {},
   "source": [
    "## Database connection  \n",
    "##### 1) load .env file\n",
    "##### 2) connection string\n",
    "##### 3) trial code-> to check connection"
   ]
  },
  {
   "cell_type": "code",
   "execution_count": 131,
   "id": "c85d37ae-7eb8-4152-bf8f-d077540cc1d1",
   "metadata": {},
   "outputs": [
    {
     "name": "stdout",
     "output_type": "stream",
     "text": [
      "mssql+pyodbc://DESKTOP-03OG7NU/yahoo?driver=ODBC+Driver+17+for+SQL+Server&trusted_connection=yes\n",
      "(1, 'appl', 'apple     ', datetime.datetime(2024, 12, 21, 0, 0), datetime.datetime(2024, 12, 21, 0, 0))\n"
     ]
    }
   ],
   "source": [
    "from sqlalchemy import create_engine,text\n",
    "import urllib.parse\n",
    "from dotenv import load_dotenv\n",
    "load_dotenv()\n",
    "server = os.getenv('DB_SERVER')\n",
    "database = os.getenv('DB_DATABASE')\n",
    "username = os.getenv('DB_USERNAME')\n",
    "password = os.getenv('DB_PASSWORD')\n",
    "password = urllib.parse.quote_plus(password)\n",
    "driver = 'ODBC+Driver+17+for+SQL+Server'\n",
    "connection_string = f'mssql+pyodbc://{server}/{database}?driver={driver}&trusted_connection=yes'\n",
    "print(connection_string)\n",
    "engine = create_engine(connection_string)\n",
    "\n",
    "\n",
    "######################################################################################################################\n",
    "userId=1\n",
    "query = \"\"\"SELECT TOP (1000) [ticker_id], [symbol], [name], [last_updated], [created_at]\n",
    "        FROM [yahoo].[dbo].[Ticker_t]\n",
    "        WHERE [ticker_id] = :userId\"\"\"\n",
    "       #send_to_queue(\"user_queue\", query)  # Send the query to RabbitMQ\n",
    "with engine.connect() as connection:\n",
    "    result = connection.execute(text(query),{\"userId\":userId})\n",
    "    for row in result:\n",
    "        print(row)"
   ]
  },
  {
   "cell_type": "markdown",
   "id": "8636e7b8-fe9b-4ab2-ac66-814f0e959936",
   "metadata": {},
   "source": [
    "## Flask API"
   ]
  },
  {
   "cell_type": "code",
   "execution_count": 133,
   "id": "fce7bd07-8b61-4c84-989e-3745fcd621a0",
   "metadata": {},
   "outputs": [],
   "source": [
    "from flask import Flask, jsonify, request\n",
    "from flask_restx import Resource, fields\n",
    "\n",
    "# Create Flask app\n",
    "app = Flask(__name__)\n",
    "\n",
    "# Configure Swagger using the imported function from swagger_config.ipynb\n",
    "api = configure_swagger(app)"
   ]
  },
  {
   "cell_type": "markdown",
   "id": "41d844c8-d94d-4b06-b136-d2afebdc76f1",
   "metadata": {},
   "source": [
    "## data_model_swagger"
   ]
  },
  {
   "cell_type": "code",
   "execution_count": 135,
   "id": "85dc5054-fb31-4da6-affd-b713c00c5dd9",
   "metadata": {},
   "outputs": [],
   "source": [
    "# Define the Ticker model for Swagger documentation\n",
    "ticker_model = api.model('Ticker', {\n",
    "    'ticker_id': fields.Integer(required=True, description='The Ticker ID'),\n",
    "    'symbol': fields.String(required=True, description='The ticker symbol'),\n",
    "    'name': fields.String(required=True, description='The ticker name')\n",
    "})\n",
    "message_model = api.model('Message', {\n",
    "    'message': fields.String(required=True, description='The message to be sent to RabbitMQ')\n",
    "})\n",
    "user_fetch_model = api.model('user_fetch_model', {\n",
    "    'UserID': fields.Integer(required=True, description='The User ID'),\n",
    "    'FirstName': fields.String(required=True, description='The First Name of the User'),\n",
    "    'LastName': fields.String(required=True, description='The Last Name of the User'),\n",
    "    'Email': fields.String(required=True, description='The Email of the User'),\n",
    "    'Email2': fields.String(required=True, description='The Email of the User'),\n",
    "    'DateOfBirth': fields.String(required=True, description='The Date of Birth of the User')\n",
    "})"
   ]
  },
  {
   "cell_type": "markdown",
   "id": "74e673c5-2c77-4227-a3df-0777612bbdb6",
   "metadata": {},
   "source": [
    "## Get APIs"
   ]
  },
  {
   "cell_type": "code",
   "execution_count": 137,
   "id": "847f197a-0718-4d08-bc99-eb1c4d1a0aaf",
   "metadata": {},
   "outputs": [
    {
     "name": "stdout",
     "output_type": "stream",
     "text": [
      "<class 'flask_restx.resource.Resource'>\n"
     ]
    }
   ],
   "source": [
    "# Ticker resource (GET request for ticker info from database with ticker id)\n",
    "@api.route('/ticker/<int:id>')\n",
    "@api.response(404, 'Ticker not found')\n",
    "class Ticker(Resource):\n",
    "    @api.marshal_with(ticker_model)\n",
    "    def get(self, id):\n",
    "        query = \"\"\"\n",
    "        SELECT TOP (1000) [ticker_id], [symbol], [name], [last_updated], [created_at]\n",
    "        FROM [yahoo].[dbo].[Ticker_t]\n",
    "        WHERE [ticker_id] = :id\n",
    "        \"\"\"\n",
    "        with engine.connect() as connection:\n",
    "            result = connection.execute(text(query), {\"id\": id})\n",
    "            tickers = [dict(zip(result.keys(),row )) for row in result]\n",
    "        \n",
    "        # If ticker found, return the result\n",
    "        if len(tickers) > 0:\n",
    "            return tickers[0]\n",
    "        else:\n",
    "            api.abort(404, \"Ticker not found\")\n",
    "            \n",
    "@api.route('/user_fetch/<int:userId>')\n",
    "@api.response(404, 'user not found')\n",
    "class user_fetching(Resource):\n",
    "    print(Resource)\n",
    "    @api.marshal_with(user_fetch_model)\n",
    "    def get(self, userId):\n",
    "        print(userId)\n",
    "        #query = \"SELECT TOP (1000) [UserID], [FirstName], [LastName], [Email], [DateOfBirth] FROM [yahoo].[dbo].[Users] where [UserID]= :userId\"\n",
    "        query2 = \"\"\"\n",
    "        SELECT TOP (1000) [UserID], [FirstName], [LastName], [Email], [DateOfBirth]\n",
    "        FROM [yahoo].[dbo].[Users]\n",
    "        WHERE [UserID] = :userId\n",
    "        \"\"\"\n",
    "        \n",
    "        #send_to_queue(\"user_queue\", query)  # Send the query to RabbitMQ\n",
    "        with engine.connect() as connection:\n",
    "            result = connection.execute(text(query2),{\"userId\": userId})\n",
    "            users = [dict(zip(result.keys(), row)) for row in result]\n",
    "            print(users)\n",
    "            if users:\n",
    "                return users\n",
    "            else:\n",
    "                api.abort(404, \" not found in the database \")"
   ]
  },
  {
   "cell_type": "markdown",
   "id": "9017ee38-7f9e-42af-93ac-0c1c45749f97",
   "metadata": {},
   "source": [
    "## POST APIs"
   ]
  },
  {
   "cell_type": "code",
   "execution_count": 139,
   "id": "7e34636d-7eb0-400c-bb21-56281baa4f9d",
   "metadata": {},
   "outputs": [],
   "source": [
    "# Route to send a message to RabbitMQ\n",
    "@api.route('/send_message')\n",
    "class SendMessage(Resource):\n",
    "    @api.expect(message_model)\n",
    "    @api.response(200, 'Message successfully sent')\n",
    "    @api.response(400, 'No message provided')\n",
    "    def post(self):\n",
    "        \"\"\"\n",
    "        Sends a message to RabbitMQ.\n",
    "        \"\"\"\n",
    "        message = request.json.get('message', '')\n",
    "        if message:\n",
    "            # Send the message to RabbitMQ\n",
    "            send_to_queue(message)\n",
    "            return {\"status\": \"Message sent to RabbitMQ!\"}, 200\n",
    "        return {\"error\": \"No message provided\"}, 400\n"
   ]
  },
  {
   "cell_type": "code",
   "execution_count": 140,
   "id": "79cd6a59-93b2-42d7-9c66-9c0e764d56c8",
   "metadata": {},
   "outputs": [
    {
     "name": "stdout",
     "output_type": "stream",
     "text": [
      " * Serving Flask app '__main__'\n",
      " * Debug mode: on\n"
     ]
    },
    {
     "name": "stderr",
     "output_type": "stream",
     "text": [
      "WARNING: This is a development server. Do not use it in a production deployment. Use a production WSGI server instead.\n",
      " * Running on http://127.0.0.1:5000\n",
      "Press CTRL+C to quit\n",
      "127.0.0.1 - - [21/Dec/2024 14:28:38] \"GET / HTTP/1.1\" 200 -\n",
      "127.0.0.1 - - [21/Dec/2024 14:28:38] \"GET /swaggerui/droid-sans.css HTTP/1.1\" 304 -\n",
      "127.0.0.1 - - [21/Dec/2024 14:28:38] \"GET /swaggerui/swagger-ui.css HTTP/1.1\" 304 -\n",
      "127.0.0.1 - - [21/Dec/2024 14:28:38] \"GET /swaggerui/swagger-ui-bundle.js HTTP/1.1\" 304 -\n",
      "127.0.0.1 - - [21/Dec/2024 14:28:38] \"GET /swaggerui/swagger-ui-standalone-preset.js HTTP/1.1\" 304 -\n",
      "127.0.0.1 - - [21/Dec/2024 14:28:38] \"GET /swagger.json HTTP/1.1\" 200 -\n",
      "127.0.0.1 - - [21/Dec/2024 14:28:42] \"GET / HTTP/1.1\" 200 -\n",
      "127.0.0.1 - - [21/Dec/2024 14:28:42] \"GET /swaggerui/swagger-ui.css HTTP/1.1\" 304 -\n",
      "127.0.0.1 - - [21/Dec/2024 14:28:42] \"GET /swaggerui/droid-sans.css HTTP/1.1\" 304 -\n",
      "127.0.0.1 - - [21/Dec/2024 14:28:42] \"GET /swaggerui/swagger-ui-bundle.js HTTP/1.1\" 304 -\n",
      "127.0.0.1 - - [21/Dec/2024 14:28:42] \"GET /swaggerui/swagger-ui-standalone-preset.js HTTP/1.1\" 304 -\n",
      "127.0.0.1 - - [21/Dec/2024 14:28:42] \"GET /swagger.json HTTP/1.1\" 200 -\n",
      "127.0.0.1 - - [21/Dec/2024 14:28:47] \"GET /ticker/1 HTTP/1.1\" 200 -\n",
      "127.0.0.1 - - [21/Dec/2024 14:28:56] \"GET /ticker/2 HTTP/1.1\" 404 -\n"
     ]
    }
   ],
   "source": [
    "# main_app.ipynb\n",
    "#from ipynb.fs.full.swagger_configure import configure_swagger  # Import the function from the notebook\n",
    "#from rabbitmq_config import send_to_queue\n",
    "# Run Flask app\n",
    "if __name__ == '__main__':\n",
    "    app.run(debug=True,use_reloader=False)\n"
   ]
  },
  {
   "cell_type": "code",
   "execution_count": 141,
   "id": "8ed08c3b-a847-4d84-b12c-5ee334bfa426",
   "metadata": {},
   "outputs": [],
   "source": [
    "\n",
    "\n",
    "# Function that sends a message to the queue\n",
    "def send_to_queue(queue_name, message):\n",
    "    # Connect to RabbitMQ and send the message\n",
    "    connection = pika.BlockingConnection(pika.ConnectionParameters(host='localhost'))\n",
    "    channel = connection.channel()\n",
    "\n",
    "    # Ensure the queue exists before sending a message\n",
    "    channel.queue_declare(queue=queue_name, durable=True)\n",
    "\n",
    "    # Send the message\n",
    "    channel.basic_publish(\n",
    "        exchange='',\n",
    "        routing_key=queue_name,\n",
    "        body=message,\n",
    "        properties=pika.BasicProperties(\n",
    "            delivery_mode=2,  # Make the message persistent\n",
    "        )\n",
    "    )\n",
    "\n",
    "    print(f\"Sent message to queue '{queue_name}': {message}\")\n",
    "    connection.close()\n",
    "\n",
    "# Example usage of the function to create a queue and send a message\n",
    "#create_queue_in_rabbitmq('user_queue')  # This will automatically create the queue\n",
    "#send_to_queue('user_queue', 'Test message to the queue')\n"
   ]
  }
 ],
 "metadata": {
  "kernelspec": {
   "display_name": "Python 3 (ipykernel)",
   "language": "python",
   "name": "python3"
  },
  "language_info": {
   "codemirror_mode": {
    "name": "ipython",
    "version": 3
   },
   "file_extension": ".py",
   "mimetype": "text/x-python",
   "name": "python",
   "nbconvert_exporter": "python",
   "pygments_lexer": "ipython3",
   "version": "3.12.4"
  }
 },
 "nbformat": 4,
 "nbformat_minor": 5
}
