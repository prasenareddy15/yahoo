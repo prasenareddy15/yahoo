{
 "cells": [
  {
   "cell_type": "code",
   "execution_count": null,
   "id": "a5224798-ef08-45b3-b851-28605097c022",
   "metadata": {},
   "outputs": [],
   "source": [
    "import pika\n",
    "\n",
    "# Connection setup\n",
    "connection = pika.BlockingConnection(pika.ConnectionParameters('localhost'))\n",
    "channel = connection.channel()\n",
    "\n",
    "# Declare the same durable queue\n",
    "channel.queue_declare(queue='task_queue', durable=True)\n",
    "\n",
    "# Callback to process messages\n",
    "def callback(ch, method, properties, body):\n",
    "    print(f\"Received: {body.decode()}\")\n",
    "\n",
    "    # Acknowledge message\n",
    "    ch.basic_ack(delivery_tag=method.delivery_tag)\n",
    "\n",
    "# Consume messages\n",
    "channel.basic_consume(queue='task_queue', on_message_callback=callback)\n",
    "\n",
    "print(\"Waiting for messages. To exit press CTRL+C\")\n",
    "channel.start_consuming()"
   ]
  }
 ],
 "metadata": {
  "kernelspec": {
   "display_name": "Python 3 (ipykernel)",
   "language": "python",
   "name": "python3"
  },
  "language_info": {
   "codemirror_mode": {
    "name": "ipython",
    "version": 3
   },
   "file_extension": ".py",
   "mimetype": "text/x-python",
   "name": "python",
   "nbconvert_exporter": "python",
   "pygments_lexer": "ipython3",
   "version": "3.12.4"
  }
 },
 "nbformat": 4,
 "nbformat_minor": 5
}
