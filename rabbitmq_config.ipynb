{
 "cells": [
  {
   "cell_type": "code",
   "execution_count": 12,
   "id": "3ce12f42-7653-43fb-baf7-2a0277499603",
   "metadata": {},
   "outputs": [
    {
     "name": "stdout",
     "output_type": "stream",
     "text": [
      "Collecting pika\n",
      "  Downloading pika-1.3.2-py3-none-any.whl.metadata (13 kB)\n",
      "Downloading pika-1.3.2-py3-none-any.whl (155 kB)\n",
      "   ---------------------------------------- 0.0/155.4 kB ? eta -:--:--\n",
      "   -- ------------------------------------- 10.2/155.4 kB ? eta -:--:--\n",
      "   ---------- ---------------------------- 41.0/155.4 kB 487.6 kB/s eta 0:00:01\n",
      "   ----------------------- --------------- 92.2/155.4 kB 744.7 kB/s eta 0:00:01\n",
      "   ---------------------------------------- 155.4/155.4 kB 1.0 MB/s eta 0:00:00\n",
      "Installing collected packages: pika\n",
      "Successfully installed pika-1.3.2\n"
     ]
    }
   ],
   "source": [
    "!pip install pika"
   ]
  },
  {
   "cell_type": "code",
   "execution_count": 21,
   "id": "d5d58801-56e2-4991-9afd-ba7e4f5507d9",
   "metadata": {},
   "outputs": [
    {
     "name": "stdout",
     "output_type": "stream",
     "text": [
      "Sent 'Hello, RabbitMQ 2!'\n"
     ]
    }
   ],
   "source": [
    "import pika\n",
    "\n",
    "# Connection setup\n",
    "connection = pika.BlockingConnection(pika.ConnectionParameters('localhost'))\n",
    "channel = connection.channel()\n",
    "\n",
    "# Declare a durable queue\n",
    "channel.queue_declare(queue='task_queue', durable=True)\n",
    "\n",
    "# Publish a message\n",
    "channel.basic_publish(\n",
    "    exchange='',\n",
    "    routing_key='task_queue',\n",
    "    body='Hello, RabbitMQ again!',\n",
    "    properties=pika.BasicProperties(delivery_mode=2)  # Make the message persistent\n",
    ")\n",
    "print(\"Sent 'Hello, RabbitMQ 2!'\")\n",
    "\n",
    "connection.close()\n"
   ]
  }
 ],
 "metadata": {
  "kernelspec": {
   "display_name": "Python 3 (ipykernel)",
   "language": "python",
   "name": "python3"
  },
  "language_info": {
   "codemirror_mode": {
    "name": "ipython",
    "version": 3
   },
   "file_extension": ".py",
   "mimetype": "text/x-python",
   "name": "python",
   "nbconvert_exporter": "python",
   "pygments_lexer": "ipython3",
   "version": "3.12.4"
  }
 },
 "nbformat": 4,
 "nbformat_minor": 5
}
