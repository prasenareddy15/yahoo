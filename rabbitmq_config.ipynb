{
 "cells": [
  {
   "cell_type": "code",
   "execution_count": 28,
   "id": "d5d58801-56e2-4991-9afd-ba7e4f5507d9",
   "metadata": {},
   "outputs": [],
   "source": [
    "# rabbitmq_config.ipynb\n",
    "#!pip install pika\n",
    "import pika\n",
    "\n",
    "def send_to_queue(message):\n",
    "    connection = pika.BlockingConnection(pika.ConnectionParameters('localhost'))\n",
    "    channel = connection.channel()\n",
    "    \n",
    "    # Declare the queue (make sure it's durable to survive server restarts)\n",
    "    channel.queue_declare(queue='task_queue', durable=True)\n",
    "\n",
    "    # Send the message to the queue\n",
    "    channel.basic_publish(\n",
    "        exchange='',\n",
    "        routing_key='task_queue',\n",
    "        body=message,\n",
    "        properties=pika.BasicProperties(\n",
    "            delivery_mode=2,  # Make the message persistent\n",
    "        )\n",
    "    )\n",
    "\n",
    "    print(f\"Sent message: {message}\")\n",
    "    connection.close()\n"
   ]
  }
 ],
 "metadata": {
  "kernelspec": {
   "display_name": "Python 3 (ipykernel)",
   "language": "python",
   "name": "python3"
  },
  "language_info": {
   "codemirror_mode": {
    "name": "ipython",
    "version": 3
   },
   "file_extension": ".py",
   "mimetype": "text/x-python",
   "name": "python",
   "nbconvert_exporter": "python",
   "pygments_lexer": "ipython3",
   "version": "3.12.4"
  }
 },
 "nbformat": 4,
 "nbformat_minor": 5
}
